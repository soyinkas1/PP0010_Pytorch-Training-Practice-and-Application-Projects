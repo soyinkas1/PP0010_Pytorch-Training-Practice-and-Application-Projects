{
  "nbformat": 4,
  "nbformat_minor": 0,
  "metadata": {
    "colab": {
      "provenance": [],
      "authorship_tag": "ABX9TyP0MXh2NjGgLrlBsVLMeo0y",
      "include_colab_link": true
    },
    "kernelspec": {
      "name": "python3",
      "display_name": "Python 3"
    },
    "language_info": {
      "name": "python"
    }
  },
  "cells": [
    {
      "cell_type": "markdown",
      "metadata": {
        "id": "view-in-github",
        "colab_type": "text"
      },
      "source": [
        "<a href=\"https://colab.research.google.com/github/soyinkas1/PP0010_Pytorch-Training-Practice-and-Application-Projects/blob/main/PyTorch_Documentation_Walkalong.ipynb\" target=\"_parent\"><img src=\"https://colab.research.google.com/assets/colab-badge.svg\" alt=\"Open In Colab\"/></a>"
      ]
    },
    {
      "cell_type": "code",
      "source": [
        "import torch as torch"
      ],
      "metadata": {
        "id": "goQXJMcx2YEW"
      },
      "execution_count": 1,
      "outputs": []
    },
    {
      "cell_type": "markdown",
      "source": [
        "TORCH.IS_TENSOR\n",
        "\n",
        "`torch.is_tensor(obj)`\n",
        "\n",
        "returns ***True*** if obj is a PyTorch object\n",
        "\n",
        "NOTE: This function is simply doing `isintance(obj, tensor)`. It is recommended o use that instead of `is_tensor`."
      ],
      "metadata": {
        "id": "J6CT78GN1qxI"
      }
    },
    {
      "cell_type": "code",
      "execution_count": 2,
      "metadata": {
        "colab": {
          "base_uri": "https://localhost:8080/"
        },
        "id": "jpt-Apiq1k15",
        "outputId": "a254fafb-7c02-4ecb-9511-ee7cde61b460"
      },
      "outputs": [
        {
          "output_type": "execute_result",
          "data": {
            "text/plain": [
              "True"
            ]
          },
          "metadata": {},
          "execution_count": 2
        }
      ],
      "source": [
        "# Example\n",
        "x = torch.tensor([1, 2, 3])\n",
        "torch.is_tensor(x)"
      ]
    },
    {
      "cell_type": "markdown",
      "source": [
        "TORCH.IS_STORAGE\n",
        "\n",
        "`torch.is_storage(obj)`\n",
        "\n",
        "returns `True` if obj is a PyTorch storage object\n"
      ],
      "metadata": {
        "id": "_5TifbeU2QAM"
      }
    }
  ]
}